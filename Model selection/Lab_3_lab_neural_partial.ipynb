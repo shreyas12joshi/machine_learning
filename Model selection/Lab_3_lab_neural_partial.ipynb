{
 "cells": [
  {
   "cell_type": "markdown",
   "metadata": {},
   "source": [
    "# Lab:  Model Selection for Neural Data\n",
    "\n",
    "Machine learning is a key tool for neuroscientists to understand how sensory and motor signals are encoded in the brain. In addition to improving our scientific understanding of neural phenomena, understanding neural encoding is critical for brain machine interfaces. In this lab, you will use model selection for performing some simple analysis on real neural signals. \n",
    "\n",
    "Before doing this lab, you should review the ideas in the [polynomial model selection demo](./polyfit.ipynb).  In addition to the concepts in that demo, you will learn to:\n",
    "* Load MATLAB data\n",
    "* Formulate models of different complexities using heuristic model selection\n",
    "* Fit a linear model for the different model orders\n",
    "* Select the optimal model via cross-validation\n",
    "\n",
    "The last stage of the lab uses LASSO estimation for model selection.  If you are doing this part of the lab, you should review the concepts in [LASSO demonstration](./prostate.ipynb) on the prostate cancer  dataset.  "
   ]
  },
  {
   "cell_type": "markdown",
   "metadata": {},
   "source": [
    "## Loading the data\n",
    "\n",
    "The data in this lab comes from neural recordings described in:\n",
    "\n",
    "<a href=\"http://jn.physiology.org/content/106/2/764.short\">\n",
    "Stevenson, Ian H., et al. \"Statistical assessment of the stability of neural movement representations.\" Journal of neurophysiology 106.2 (2011): 764-774</a>\n",
    "\n",
    "Neurons are the basic information processing units in the brain.  Neurons communicate with one another via *spikes* or *action potentials* which are brief events where voltage in the neuron rapidly rises then falls.  These spikes trigger the electro-chemical signals between one neuron and another.  In this experiment, the spikes were recorded from 196 neurons in the primary motor cortex (M1) of a monkey using an electrode array implanted onto the surface of a monkey's brain.  During the recording, the monkey performed several reaching tasks and the position and velocity of the hand was recorded as well.  \n",
    "\n",
    "The goal of the experiment is to try to *read the monkey's brain*:  That is, predict the hand motion from the neural signals from the motor cortex.\n",
    "\n",
    "We first load the basic packages."
   ]
  },
  {
   "cell_type": "code",
   "execution_count": 40,
   "metadata": {
    "collapsed": true
   },
   "outputs": [],
   "source": [
    "import numpy as np\n",
    "import matplotlib\n",
    "import matplotlib.pyplot as plt\n",
    "%matplotlib inline"
   ]
  },
  {
   "cell_type": "markdown",
   "metadata": {},
   "source": [
    "The full data is available on the CRCNS website  http://crcns.org/data-sets/movements/dream.  This website has a large number of great datasets and can be used for projects as well.  To make this lab easier, I have pre-processed the data slightly and placed it in the file `StevensonV2.mat`, which is a MATLAB file.  You will need to have this file downloaded in the directory you are working on.\n",
    "\n",
    "Since MATLAB is widely-used, `python` provides method for loading MATLAB `mat` files.  We can use these commands to load the data as follows."
   ]
  },
  {
   "cell_type": "code",
   "execution_count": 41,
   "metadata": {
    "collapsed": true
   },
   "outputs": [],
   "source": [
    "import scipy.io\n",
    "mat_dict = scipy.io.loadmat('StevensonV2.mat')"
   ]
  },
  {
   "cell_type": "markdown",
   "metadata": {},
   "source": [
    "The returned structure, `mat_dict`, is a dictionary with each of the MATLAB variables that were saved in the `.mat` file.  Use the `.keys()` method to list all the variables."
   ]
  },
  {
   "cell_type": "code",
   "execution_count": 3,
   "metadata": {},
   "outputs": [
    {
     "data": {
      "text/plain": [
       "dict_keys(['targets', '__header__', 'Publication', 'handPos', 'startBins', '__version__', '__globals__', 'handVel', 'startBinned', 'target', 'spikes', 'timeBase', 'time'])"
      ]
     },
     "execution_count": 3,
     "metadata": {},
     "output_type": "execute_result"
    }
   ],
   "source": [
    "#TODO\n",
    "mat_dict.keys()"
   ]
  },
  {
   "cell_type": "markdown",
   "metadata": {},
   "source": [
    "We extract two variables, `spikes` and `handVel`, from the dictionary `mat_dict`, which represent the recorded spikes per neuron and the hand velocity.  We take the transpose of the spikes data so that it is in the form time bins $\\times$ number of neurons.  For the `handVel` data, we take the first component which is the motion in the $x$-direction."
   ]
  },
  {
   "cell_type": "code",
   "execution_count": 42,
   "metadata": {
    "collapsed": true
   },
   "outputs": [],
   "source": [
    "X0 = mat_dict['spikes'].T\n",
    "y0 = mat_dict['handVel'][0,:]"
   ]
  },
  {
   "cell_type": "code",
   "execution_count": 5,
   "metadata": {},
   "outputs": [
    {
     "data": {
      "text/plain": [
       "array([[1, 3, 1, ..., 0, 0, 0],\n",
       "       [0, 1, 0, ..., 2, 3, 2],\n",
       "       [2, 1, 1, ..., 0, 0, 0],\n",
       "       ..., \n",
       "       [2, 0, 0, ..., 0, 0, 0],\n",
       "       [0, 0, 0, ..., 0, 0, 0],\n",
       "       [2, 0, 3, ..., 3, 1, 2]], dtype=uint8)"
      ]
     },
     "execution_count": 5,
     "metadata": {},
     "output_type": "execute_result"
    }
   ],
   "source": [
    "mat_dict['spikes']"
   ]
  },
  {
   "cell_type": "markdown",
   "metadata": {},
   "source": [
    "The `spikes` matrix will be a `nt x nneuron` matrix where `nt` is the number of time bins and `nneuron` is the number of neurons.  Each entry `spikes[k,j]` is the number of spikes in time bin `k` from neuron `j`.  Use the `shape` method to find `nt` and `nneuron` and print the values."
   ]
  },
  {
   "cell_type": "code",
   "execution_count": 6,
   "metadata": {},
   "outputs": [
    {
     "name": "stdout",
     "output_type": "stream",
     "text": [
      "nt= 15536\n",
      "nneurons= 196\n"
     ]
    }
   ],
   "source": [
    "# TODO \n",
    "X01=np.array(X0)\n",
    "[nt, nneurons]=X01.shape\n",
    "print('nt= {0}'.format(nt))\n",
    "print('nneurons= {0}'.format(nneurons))"
   ]
  },
  {
   "cell_type": "markdown",
   "metadata": {},
   "source": [
    "Now extract the `time` variable from the `mat_dict` dictionary.  Reshape this to a 1D array with `nt` components.  Each entry `time[k]` is the starting time of the time bin `k`.  Find the sampling time `tsamp` which is the time between measurements, and `ttotal` which is the total duration of the recording."
   ]
  },
  {
   "cell_type": "code",
   "execution_count": 7,
   "metadata": {},
   "outputs": [
    {
     "name": "stdout",
     "output_type": "stream",
     "text": [
      "Sampling time: 0.05\n",
      "Total duration of recording: 776.75\n"
     ]
    }
   ],
   "source": [
    "# TODO\n",
    "print(\"Sampling time: {0:.2f}\".format(abs(mat_dict['time'][0][3] - mat_dict['time'][0][4])))\n",
    "print(\"Total duration of recording: {}\".format(mat_dict['time'][0][0-1] - mat_dict['time'][0][0]))"
   ]
  },
  {
   "cell_type": "markdown",
   "metadata": {},
   "source": [
    "## Linear fitting on all the neurons\n",
    "\n",
    "First divide the data into training and test with approximately half the samples in each.  Let `Xtr` and `ytr` denote the training data and `Xts` and `yts` denote the test data."
   ]
  },
  {
   "cell_type": "code",
   "execution_count": 8,
   "metadata": {
    "collapsed": true
   },
   "outputs": [],
   "source": [
    "# TODO\n",
    "ntr = nt // 2\n",
    "nts = nt - ntr\n",
    "\n",
    "# Training\n",
    "xtr = X0[:ntr]\n",
    "ytr = y0[:ntr]\n",
    "\n",
    "# Test\n",
    "xts = X0[ntr:]\n",
    "yts = y0[ntr:]"
   ]
  },
  {
   "cell_type": "code",
   "execution_count": 9,
   "metadata": {},
   "outputs": [
    {
     "data": {
      "text/plain": [
       "(7768,)"
      ]
     },
     "execution_count": 9,
     "metadata": {},
     "output_type": "execute_result"
    }
   ],
   "source": [
    "xtr[:,0].shape"
   ]
  },
  {
   "cell_type": "markdown",
   "metadata": {},
   "source": [
    "Now, we begin by trying to fit a simple linear model using *all* the neurons as predictors.  To this end, use the `sklearn.linear_model` package to create a regression object, and fit the linear model to the training data."
   ]
  },
  {
   "cell_type": "code",
   "execution_count": 10,
   "metadata": {},
   "outputs": [
    {
     "data": {
      "text/plain": [
       "LinearRegression(copy_X=True, fit_intercept=True, n_jobs=1, normalize=False)"
      ]
     },
     "execution_count": 10,
     "metadata": {},
     "output_type": "execute_result"
    }
   ],
   "source": [
    "from sklearn.linear_model import LinearRegression\n",
    "\n",
    "regr = LinearRegression()\n",
    "regr.fit(xtr, ytr)\n",
    "# TODO"
   ]
  },
  {
   "cell_type": "code",
   "execution_count": 11,
   "metadata": {
    "collapsed": true
   },
   "outputs": [],
   "source": [
    "predictions = regr.predict(xtr)"
   ]
  },
  {
   "cell_type": "markdown",
   "metadata": {},
   "source": [
    "Measure and print the normalized RSS on the test data.  "
   ]
  },
  {
   "cell_type": "code",
   "execution_count": 12,
   "metadata": {},
   "outputs": [
    {
     "name": "stdout",
     "output_type": "stream",
     "text": [
      "Normalised RSS on train data = 0.468805226265257\n"
     ]
    }
   ],
   "source": [
    "# TODO\n",
    "RSS = np.mean((ytr - predictions)**2)#/nt/2\n",
    "sy2 = np.mean((ytr - np.mean(ytr))**2)#/nt/2\n",
    "nRSS_train = RSS/ sy2\n",
    "print('Normalised RSS on train data = {0}'.format(nRSS_train))"
   ]
  },
  {
   "cell_type": "code",
   "execution_count": 13,
   "metadata": {},
   "outputs": [
    {
     "name": "stdout",
     "output_type": "stream",
     "text": [
      "Normalised RSS on test data = 1.8893798429138496e+21\n"
     ]
    }
   ],
   "source": [
    "predictions = regr.predict(xts)\n",
    "RSS = np.mean((yts - predictions)**2)  \n",
    "sy2 = np.mean((yts - np.mean(yts))**2)\n",
    "nRSS_test = RSS / sy2\n",
    "print('Normalised RSS on test data = {0}'.format(nRSS_test))"
   ]
  },
  {
   "cell_type": "markdown",
   "metadata": {},
   "source": [
    "You should see that the test error is enormous -- the model does not generalize to the test data at all. "
   ]
  },
  {
   "cell_type": "markdown",
   "metadata": {},
   "source": [
    "## Linear Fitting  with Heuristic Model Selection\n",
    "\n",
    "The above shows that we need a way to reduce the model complexity.  One simple idea is to select only the neurons that individually have a high correlation with the output.   \n",
    "\n",
    "Write code which computes the coefficient of determination, $R^2_k$, for each neuron $k$.  Plot the $R^2_k$ values.  \n",
    "\n",
    "You can use a for loop over each neuron, but if you want to make efficient code try to avoid the for loop and use [python broadcasting](../Basics/numpy_axes_broadcasting.ipynb)."
   ]
  },
  {
   "cell_type": "code",
   "execution_count": 14,
   "metadata": {
    "collapsed": true
   },
   "outputs": [],
   "source": [
    "# TODO\n",
    "# Rsq = ...\n",
    "# plt.stem(...)\n",
    "COD_ = np.zeros(195)\n",
    "for i in range(0,195):\n",
    "    xtr1 = np.matrix(xtr[:,i]).T\n",
    "    \n",
    "    ones = np.ones((ntr,1))\n",
    "    ones.shape\n",
    "    A = np.hstack((ones,xtr1))\n",
    "    \n",
    "    \n",
    "    xts1 = np.matrix(xts[:,i]).T\n",
    "    #ones = np.ones((ntr,1))\n",
    "    ones.shape\n",
    "    At = np.hstack((ones,xts1))\n",
    "    At.shape\n",
    "    \n",
    "    regr.fit(A, ytr)\n",
    "    predictions = regr.predict(At)\n",
    "    RSS = np.mean((yts - predictions)**2)  \n",
    "    sy2 = np.mean((yts - np.mean(yts))**2)\n",
    "    nRSS_test = 1- (RSS / sy2)\n",
    "    COD_[i] =nRSS_test\n",
    "    \n"
   ]
  },
  {
   "cell_type": "code",
   "execution_count": 15,
   "metadata": {
    "collapsed": true
   },
   "outputs": [],
   "source": [
    "#np.argsort(COD_)"
   ]
  },
  {
   "cell_type": "code",
   "execution_count": 16,
   "metadata": {
    "collapsed": true
   },
   "outputs": [],
   "source": [
    "Isel = np.argsort(COD_)[-100:]"
   ]
  },
  {
   "cell_type": "code",
   "execution_count": 17,
   "metadata": {},
   "outputs": [
    {
     "data": {
      "text/plain": [
       "array([ 18,  16,  88,  12,  79, 107, 138, 169,  10, 129,  75, 112,  73,\n",
       "        97,  49, 140, 109,  23, 133,  47,  69, 186,  60, 187,  83, 189,\n",
       "        86, 125, 115,  59,  64, 168, 117,  65, 149,  45, 110, 148,   4,\n",
       "       190, 127,  87,  14, 179, 114, 146, 141,  52, 135,   0, 178, 183,\n",
       "        22, 176, 150, 166,  84,  66,  35, 170, 142, 134,  20, 147, 111,\n",
       "       162,  30, 103,  44, 137,  29,  36, 126,   2,   3, 100,  43, 167,\n",
       "       144, 188, 182,   1, 172,  61, 128, 155, 154, 145,   6, 158,  80,\n",
       "       193,  98, 120, 136, 152, 153,  67,  58, 192])"
      ]
     },
     "execution_count": 17,
     "metadata": {},
     "output_type": "execute_result"
    }
   ],
   "source": [
    "Isel"
   ]
  },
  {
   "cell_type": "code",
   "execution_count": 18,
   "metadata": {},
   "outputs": [
    {
     "name": "stderr",
     "output_type": "stream",
     "text": [
      "/Users/shreyasjoshi/anaconda/lib/python3.5/site-packages/ipykernel_launcher.py:10: RuntimeWarning: invalid value encountered in double_scalars\n",
      "  # Remove the CWD from sys.path while we load stuff.\n"
     ]
    }
   ],
   "source": [
    "ym = np.mean(y0)\n",
    "syy = np.mean((y0-ym)**2)\n",
    "Rsq = np.zeros(nneurons)\n",
    "for k in range(nneurons):\n",
    "    xm = np.mean(X0[:,k])\n",
    "    sxy = np.mean((X0[:,k]-xm)*(y0-ym))\n",
    "    sxx = np.mean((X0[:,k]-xm)**2)\n",
    "    #beta1[k] = sxy/sxx\n",
    "    #beta0[k] = ym - beta1[k]*xm\n",
    "    Rsq[k] = (sxy)**2/sxx/syy\n",
    " \n"
   ]
  },
  {
   "cell_type": "code",
   "execution_count": 19,
   "metadata": {},
   "outputs": [
    {
     "data": {
      "text/plain": [
       "array([130, 171,  24,  34,  41,  82,  48, 174,  19,  13, 159,  72, 177,\n",
       "        74, 164, 104,  51,  85,   7,  92,  21,  37, 180,  89,  28,  33,\n",
       "        81, 139,  78,  94, 173, 156, 163,  57,  56, 181,  40,   5,  32,\n",
       "       191,  63, 165, 101,  31,  70, 113,  17,   9,  76, 105, 106, 118,\n",
       "        96,  27,  46,  91,  26,  38, 131,  99, 157,  62,  90, 160,  25,\n",
       "        95, 121, 194,  11,   8,  15, 124, 161, 123, 175, 185, 119, 143,\n",
       "       116,  18,  16,  12,  93, 107, 102,  53,  77, 169, 138,  88,  10,\n",
       "       184,  49,  75, 108, 112,  73, 140,  47,  50,  69,  60,  83,  39,\n",
       "        97, 132, 187,  86,  71, 115,  59,  23, 109,  64,  42, 189,  45,\n",
       "       186,  79,  65, 149,  68, 148, 127, 133,  55, 179,  54,  87,  14,\n",
       "       135, 125,  52, 110, 176, 129, 178, 166, 190, 170, 117, 114, 146,\n",
       "       141,  35,  20,   0,  44, 142, 111,  30, 103, 137, 183, 147, 162,\n",
       "        66, 168, 150,  22,  84,  36, 134,  29, 151,   4, 100,   3, 167,\n",
       "       126, 188, 172, 182,   2,   1,  43, 128, 144, 155,  61,   6, 154,\n",
       "       145, 158,  80, 193,  98, 195, 120,  67, 136, 153, 152,  58, 192, 122])"
      ]
     },
     "execution_count": 19,
     "metadata": {},
     "output_type": "execute_result"
    }
   ],
   "source": [
    "np.argsort(Rsq)"
   ]
  },
  {
   "cell_type": "code",
   "execution_count": 20,
   "metadata": {},
   "outputs": [
    {
     "name": "stdout",
     "output_type": "stream",
     "text": [
      "2.12700412143e-09\n"
     ]
    }
   ],
   "source": [
    "print(Rsq[130])"
   ]
  },
  {
   "cell_type": "code",
   "execution_count": 21,
   "metadata": {},
   "outputs": [
    {
     "data": {
      "text/plain": [
       "<Container object of 3 artists>"
      ]
     },
     "execution_count": 21,
     "metadata": {},
     "output_type": "execute_result"
    },
    {
     "data": {
      "image/png": "[encoded data removed]",
      "text/plain": [
       "<matplotlib.figure.Figure at 0x10e942208>"
      ]
     },
     "metadata": {},
     "output_type": "display_data"
    }
   ],
   "source": [
    "plt.stem(Rsq)"
   ]
  },
  {
   "cell_type": "markdown",
   "metadata": {},
   "source": [
    "We see that many neurons have low correlation and can probably be discarded from the model.    \n",
    "\n",
    "Use the `np.argsort()` command to find the indices of the `d=100` neurons with the highest $R^2_k$ value.  Put the `d` indices into an array `Isel`.  Print the indices of the neurons with the 10 highest correlations."
   ]
  },
  {
   "cell_type": "code",
   "execution_count": 22,
   "metadata": {},
   "outputs": [
    {
     "name": "stdout",
     "output_type": "stream",
     "text": [
      "The neurons with the ten highest R^2 values =  [ 80 193  98 120 136 152 153  67  58 192]\n"
     ]
    }
   ],
   "source": [
    "d = 100  # Number of neurons to use\n",
    "\n",
    "# TODO\n",
    "# Isel = ...\n",
    "print(\"The neurons with the ten highest R^2 values = \",Isel[-10:])"
   ]
  },
  {
   "cell_type": "markdown",
   "metadata": {},
   "source": [
    "Fit a model using only the `d` neurons selected in the previous step and print both the test RSS per sample and the normalized test RSS."
   ]
  },
  {
   "cell_type": "code",
   "execution_count": 23,
   "metadata": {
    "collapsed": true
   },
   "outputs": [],
   "source": [
    "# TODO\n",
    "X0_new = np.zeros((nt,d))\n",
    "for i in range(d):\n",
    "    X0_new[:,i] = X0[:,Isel[i]]\n",
    "   \n",
    "ntr = nt // 2\n",
    "nts = nt - ntr\n",
    "\n",
    "# Training\n",
    "xtr = X0_new[:ntr]\n",
    "ytr = y0[:ntr]\n",
    "\n",
    "# Test\n",
    "xts = X0_new[ntr:]\n",
    "yts = y0[ntr:]\n",
    "\n"
   ]
  },
  {
   "cell_type": "code",
   "execution_count": 24,
   "metadata": {},
   "outputs": [
    {
     "data": {
      "text/plain": [
       "LinearRegression(copy_X=True, fit_intercept=True, n_jobs=1, normalize=False)"
      ]
     },
     "execution_count": 24,
     "metadata": {},
     "output_type": "execute_result"
    }
   ],
   "source": [
    "regr = LinearRegression()\n",
    "regr.fit(xtr, ytr)"
   ]
  },
  {
   "cell_type": "code",
   "execution_count": 25,
   "metadata": {
    "collapsed": true
   },
   "outputs": [],
   "source": [
    "predictions = regr.predict(xtr)"
   ]
  },
  {
   "cell_type": "code",
   "execution_count": 26,
   "metadata": {},
   "outputs": [
    {
     "name": "stdout",
     "output_type": "stream",
     "text": [
      "Normalised RSS on train data = 0.4922710751922846\n"
     ]
    }
   ],
   "source": [
    "# TODO\n",
    "RSS = np.mean((ytr - predictions)**2)#/nt/2\n",
    "sy2 = np.mean((ytr - np.mean(ytr))**2)#/nt/2\n",
    "nRSS_train = RSS/ sy2\n",
    "print('Normalised RSS on train data = {0}'.format(nRSS_train))"
   ]
  },
  {
   "cell_type": "code",
   "execution_count": 27,
   "metadata": {},
   "outputs": [
    {
     "name": "stdout",
     "output_type": "stream",
     "text": [
      "Normalised RSS on test data = 0.49363630405635545\n"
     ]
    }
   ],
   "source": [
    "predictions = regr.predict(xts)\n",
    "RSS = np.mean((yts - predictions)**2)  \n",
    "sy2 = np.mean((yts - np.mean(yts))**2)\n",
    "nRSS_test = RSS / sy2\n",
    "print('Normalised RSS on test data = {0}'.format(nRSS_test))"
   ]
  },
  {
   "cell_type": "markdown",
   "metadata": {},
   "source": [
    "Create a scatter plot of the predicted vs. actual hand motion on the test data.  On the same plot, plot the line where `yts_hat = yts`."
   ]
  },
  {
   "cell_type": "code",
   "execution_count": 28,
   "metadata": {},
   "outputs": [
    {
     "data": {
      "text/plain": [
       "[<matplotlib.lines.Line2D at 0x115ba5f28>]"
      ]
     },
     "execution_count": 28,
     "metadata": {},
     "output_type": "execute_result"
    },
    {
     "data": {
      "image/png": "[encoded data removed]",
      "text/plain": [
       "<matplotlib.figure.Figure at 0x115ba5828>"
      ]
     },
     "metadata": {},
     "output_type": "display_data"
    }
   ],
   "source": [
    "# TODO\n",
    "plt.scatter(predictions, yts)\n",
    "plt.plot(yts,yts, 'r')"
   ]
  },
  {
   "cell_type": "markdown",
   "metadata": {},
   "source": [
    "## Using K-fold cross validation for the optimal number of neurons\n",
    "\n",
    "In the above, we fixed `d=100`.  We can use cross validation to try to determine the best number of neurons to use.  Try model orders with `d=10,20,...,190`.  For each value of `d`, use K-fold validation with 10 folds to estimate the test RSS.  For a data set this size, each fold will take a few seconds to compute, so it may be useful to print the progress."
   ]
  },
  {
   "cell_type": "code",
   "execution_count": 29,
   "metadata": {
    "collapsed": true
   },
   "outputs": [],
   "source": [
    "import  sklearn.model_selection \n",
    "\n",
    "# Create a k-fold object\n",
    "nfold = 10\n",
    "kf = sklearn.model_selection.KFold(n_splits=nfold,shuffle=True)\n",
    "\n",
    "RSS_mat = np.zeros((10,19))\n",
    "# Model orders to be tested\n",
    "#dtest = np.arange(10,200,10)\n",
    "dtest = list(range(10,200,(10)))\n",
    "nd = len(dtest)\n",
    "\n",
    "for d in dtest:\n",
    "    xtr_c = X0[:,:d]\n",
    "    for isplit, Ind in enumerate(kf.split(xtr_c)):\n",
    "    \n",
    "    # Get the training data in the split\n",
    "        Itr, Its = Ind\n",
    "        #print(Itr)\n",
    "        #print(Its)\n",
    "        xtr = xtr_c[Itr]\n",
    "        ytr = y0[Itr]\n",
    "        xts = xtr_c[Its]\n",
    "        yts = y0[Its]\n",
    "        \n",
    "        regr.fit(xtr, ytr)\n",
    "        predictions = regr.predict(xts)\n",
    "        RSS = np.mean((yts - predictions)**2)  \n",
    "        sy2 = np.mean((yts - np.mean(yts))**2)\n",
    "        nRSS_test = RSS / sy2\n",
    "        RSS_mat[isplit, (d//10)-1] = nRSS_test\n",
    "        "
   ]
  },
  {
   "cell_type": "markdown",
   "metadata": {},
   "source": [
    "Compute the RSS test mean and standard error and plot them as a function of the model order `d` using the `plt.errorbar()` method. "
   ]
  },
  {
   "cell_type": "code",
   "execution_count": 30,
   "metadata": {
    "collapsed": true
   },
   "outputs": [],
   "source": [
    "RSS_mat.shape\n",
    "RSS_mean = np.mean(RSS_mat,axis=0)\n",
    "RSS_std  = np.std(RSS_mat,axis=0) / np.sqrt(nfold-1)"
   ]
  },
  {
   "cell_type": "code",
   "execution_count": 31,
   "metadata": {},
   "outputs": [
    {
     "data": {
      "text/plain": [
       "array([  6.05300046e-03,   3.78195733e-03,   6.12346778e-03,\n",
       "         5.42679916e-03,   5.06679420e-03,   6.92625651e-03,\n",
       "         7.03527428e-03,   7.05662828e-03,   5.17965085e-03,\n",
       "         1.13650880e-02,   3.30009344e+22,   2.76907280e+22,\n",
       "         2.72060433e+21,   8.24596671e+21,   1.31445957e+21,\n",
       "         1.61883362e+19,   6.59230289e+19,   3.46126226e+20,\n",
       "         3.98433822e+21])"
      ]
     },
     "execution_count": 31,
     "metadata": {},
     "output_type": "execute_result"
    }
   ],
   "source": [
    "RSS_std "
   ]
  },
  {
   "cell_type": "code",
   "execution_count": 32,
   "metadata": {},
   "outputs": [
    {
     "data": {
      "image/png": "[encoded data removed]",
      "text/plain": [
       "<matplotlib.figure.Figure at 0x115bba5f8>"
      ]
     },
     "metadata": {},
     "output_type": "display_data"
    }
   ],
   "source": [
    "\n",
    "plt.errorbar(dtest, RSS_mean, yerr=RSS_std, fmt='-')\n",
    "plt.ylim(0,1)\n",
    "plt.xlabel('Model order')\n",
    "plt.ylabel('Test RSS')\n",
    "plt.grid()"
   ]
  },
  {
   "cell_type": "markdown",
   "metadata": {},
   "source": [
    "Find the optimal order using the one standard error rule. Print the optimal value of `d` and the mean test RSS per sample at the optimal `d`.  "
   ]
  },
  {
   "cell_type": "code",
   "execution_count": 36,
   "metadata": {},
   "outputs": [
    {
     "name": "stdout",
     "output_type": "stream",
     "text": [
      "The selected model order is 100\n"
     ]
    }
   ],
   "source": [
    "# TODO\n",
    "imin = np.argmin(RSS_mean)\n",
    "print(\"The selected model order is {0:d}\".format(dtest[imin]))"
   ]
  },
  {
   "cell_type": "markdown",
   "metadata": {},
   "source": [
    "## Using LASSO regression\n",
    "\n",
    "Instead of using the above heuristic to select the variables, we can use LASSO regression.  \n",
    "\n",
    "First use the `preprocessing.scale` method to standardize the data matrix `X0`.  Store the standardized values in `Xs`.  You do not need to standardize the response.  For this data, the `scale` routine may throw a warning that you are converting data types.  That is fine."
   ]
  },
  {
   "cell_type": "code",
   "execution_count": 45,
   "metadata": {},
   "outputs": [
    {
     "name": "stdout",
     "output_type": "stream",
     "text": [
      "[[ 0.59008154 -0.77081647  1.57705833 ...,  2.95471957 -0.07891542\n",
      "   0.15420216]\n",
      " [ 3.22026567  0.3996854   0.36778049 ..., -0.57599021 -0.07891542\n",
      "  -1.49628681]\n",
      " [ 0.59008154 -0.77081647  0.36778049 ..., -0.57599021 -0.07891542\n",
      "   0.97944665]\n",
      " ..., \n",
      " [-0.72501053  1.57018728 -0.84149734 ..., -0.57599021 -0.07891542\n",
      "   0.97944665]\n",
      " [-0.72501053  2.74068915 -0.84149734 ..., -0.57599021 -0.07891542\n",
      "  -0.67104233]\n",
      " [-0.72501053  1.57018728 -0.84149734 ..., -0.57599021 -0.07891542\n",
      "   0.15420216]]\n"
     ]
    },
    {
     "name": "stderr",
     "output_type": "stream",
     "text": [
      "/Users/shreyasjoshi/anaconda/lib/python3.5/site-packages/sklearn/utils/validation.py:444: DataConversionWarning: Data with input dtype uint8 was converted to float64 by the scale function.\n",
      "  warnings.warn(msg, DataConversionWarning)\n"
     ]
    }
   ],
   "source": [
    "from sklearn import preprocessing\n",
    "Xs = sklearn.preprocessing.scale(X0)\n",
    "print (Xs)"
   ]
  },
  {
   "cell_type": "markdown",
   "metadata": {},
   "source": [
    "Now, use the LASSO method to fit a model.  Use cross validation to select the regularization level `alpha`.  Use `alpha` values logarithmically spaced from `1e-5` to `0.1`, and use 10 fold cross validation.  "
   ]
  },
  {
   "cell_type": "code",
   "execution_count": 50,
   "metadata": {},
   "outputs": [
    {
     "name": "stdout",
     "output_type": "stream",
     "text": [
      "(13982, 196)\n",
      "(13982, 196)\n",
      "(13982, 196)\n",
      "(13982, 196)\n",
      "(13982, 196)\n",
      "(13982, 196)\n",
      "(13983, 196)\n",
      "(13983, 196)\n",
      "(13983, 196)\n",
      "(13983, 196)\n"
     ]
    }
   ],
   "source": [
    "# TODO\n",
    "from sklearn import model_selection \n",
    "from sklearn import \n",
    "# Create a k-fold cross validation object\n",
    "nfold = 10\n",
    "kf = sklearn.model_selection.KFold(n_splits=nfold,shuffle=True)\n",
    "\n",
    "# Create the LASSO model.  We use the `warm start` parameter so that the fit will start at the previous value.\n",
    "# This speeds up the fitting.\n",
    "model = linear_model.Lasso(warm_start=True)\n",
    "\n",
    "# Regularization values to test\n",
    "nalpha = 100\n",
    "alphas = np.logspace(-5,-1,nalpha)\n",
    "\n",
    "# MSE for each alpha and fold value\n",
    "mse = np.zeros((nalpha,nfold))\n",
    "for ifold, ind in enumerate(kf.split(Xs)):\n",
    "    \n",
    "    \n",
    "    # Get the training data in the split\n",
    "    Itr,Its = ind\n",
    "    #print(Itr)\n",
    "    X_tr = Xs[Itr,:]\n",
    "    y_tr = y0[Itr]\n",
    "    X_ts = Xs[Its,:]\n",
    "    y_ts = y0[Its]\n",
    "    \n",
    "    # Compute the lasso path for the split\n",
    "    for ia, a in enumerate(alphas):\n",
    "        \n",
    "        # Fit the model on the training data\n",
    "        model.alpha = a\n",
    "        model.fit(X_tr,y_tr)\n",
    "        \n",
    "        # Compute the prediction error on the test data\n",
    "        y_ts_pred = model.predict(X_ts)\n",
    "        mse[ia,ifold] = np.mean((y_ts_pred-y_ts)**2)\n"
   ]
  },
  {
   "cell_type": "markdown",
   "metadata": {},
   "source": [
    "Plot the mean test RSS and test RSS standard error with the `plt.errorbar` plot."
   ]
  },
  {
   "cell_type": "code",
   "execution_count": 49,
   "metadata": {},
   "outputs": [
    {
     "name": "stdout",
     "output_type": "stream",
     "text": [
      "[ 0.00148658  0.00148654  0.0014865   0.00148644  0.00148639  0.00148633\n",
      "  0.00148627  0.0014862   0.00148612  0.00148604  0.00148595  0.00148586\n",
      "  0.00148575  0.00148565  0.00148553  0.00148541  0.00148528  0.00148515\n",
      "  0.00148502  0.00148488  0.00148474  0.00148459  0.00148444  0.00148428\n",
      "  0.00148415  0.00148402  0.0014839   0.00148381  0.00148375  0.00148376\n",
      "  0.00148384  0.00148398  0.00148424  0.00148465  0.00148521  0.00148597\n",
      "  0.00148694  0.00148811  0.00148951  0.0014912   0.00149315  0.00149543\n",
      "  0.00149799  0.00150093  0.00150435  0.00150846  0.00151339  0.00151929\n",
      "  0.00152641  0.00153499  0.00154494  0.00155668  0.00157034  0.00158519\n",
      "  0.00160156  0.00161977  0.00163945  0.00166037  0.00168238  0.00170629\n",
      "  0.00173274  0.00176257  0.00179609  0.00183066  0.00186894  0.00190709\n",
      "  0.00194202  0.00197881  0.00201884  0.00206376  0.00210836  0.00215411\n",
      "  0.00220688  0.00227043  0.00234698  0.00243212  0.00252325  0.00260475\n",
      "  0.00265599  0.00269713  0.00274669  0.00280638  0.00287827  0.00296487\n",
      "  0.00306918  0.00310955  0.00310955  0.00310955  0.00310955  0.00310955\n",
      "  0.00310955  0.00310955  0.00310955  0.00310955  0.00310955  0.00310955\n",
      "  0.00310955  0.00310955  0.00310955  0.00310955]\n"
     ]
    },
    {
     "data": {
      "image/png": "[encoded data removed]",
      "text/plain": [
       "<matplotlib.figure.Figure at 0x1047f7128>"
      ]
     },
     "metadata": {},
     "output_type": "display_data"
    }
   ],
   "source": [
    "# TODO\n",
    "# Compute the mean and standard deviation over the different folds.\n",
    "mse_mean = np.mean(mse,axis=1)\n",
    "print(mse_mean)\n",
    "mse_std = np.std(mse,axis=1) / np.sqrt(nfold-1)\n",
    "d = list(np.arange(0,100,1))\n",
    "plt.errorbar(d, mse_mean, yerr=mse_std, fmt='-')\n",
    "#plt.ylim(0,1)\n",
    "plt.xlabel('Model order')\n",
    "plt.ylabel('Test RSS')\n",
    "plt.grid()"
   ]
  },
  {
   "cell_type": "markdown",
   "metadata": {},
   "source": [
    "Find the optimal `alpha` and mean test RSS using the one standard error rule."
   ]
  },
  {
   "cell_type": "code",
   "execution_count": null,
   "metadata": {},
   "outputs": [],
   "source": [
    "# TODO\n",
    "# Find the minimum MSE and MSE target\n",
    "imin = np.argmin(mse_mean)\n",
    "mse_tgt = mse_mean[imin] + mse_std[imin]\n",
    "alpha_min = alphas[imin]\n",
    "\n",
    "# Find the least complex model with mse_mean < mse_tgt\n",
    "I = np.where(mse_mean < mse_tgt)[0]\n",
    "iopt = I[-1]\n",
    "alpha_opt = alphas[iopt]\n",
    "print(\"Optimal alpha = %f\" % alpha_opt)\n",
    "\n",
    "\n"
   ]
  },
  {
   "cell_type": "markdown",
   "metadata": {},
   "source": [
    "Using the optimal alpha, recompute the predicted response variable on the whole data.  Plot the predicted vs. actual values."
   ]
  },
  {
   "cell_type": "code",
   "execution_count": null,
   "metadata": {
    "collapsed": true
   },
   "outputs": [],
   "source": [
    "model.alpha = alpha_opt\n",
    "model.fit(Xs,y0)\n",
    "pred = model.predict(Xs)\n",
    "# Print the coefficients\n",
    "#for i, c in enumerate(model.coef_):\n",
    "#    print(\"%8s %f\" % (names_x[i], c))"
   ]
  },
  {
   "cell_type": "code",
   "execution_count": null,
   "metadata": {},
   "outputs": [],
   "source": [
    "plt.scatter(pred, y0)\n",
    "plt.plot(y0,y0,'r')\n",
    "plt.xlabel('Predicted values')\n",
    "plt.ylabel('True values')"
   ]
  }
 ],
 "metadata": {
  "anaconda-cloud": {},
  "kernelspec": {
   "display_name": "Python 3",
   "language": "python",
   "name": "python3"
  },
  "language_info": {
   "codemirror_mode": {
    "name": "ipython",
    "version": 3
   },
   "file_extension": ".py",
   "mimetype": "text/x-python",
   "name": "python",
   "nbconvert_exporter": "python",
   "pygments_lexer": "ipython3",
   "version": "3.5.0"
  }
 },
 "nbformat": 4,
 "nbformat_minor": 1
}
